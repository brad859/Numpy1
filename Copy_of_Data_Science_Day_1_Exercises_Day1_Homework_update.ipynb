{
  "cells": [
    {
      "cell_type": "markdown",
      "metadata": {
        "id": "KdERlTpFuL5V"
      },
      "source": [
        "# Exercises"
      ]
    },
    {
      "cell_type": "code",
      "execution_count": 2,
      "metadata": {},
      "outputs": [
        {
          "name": "stderr",
          "output_type": "stream",
          "text": [
            "\n",
            "[notice] A new release of pip is available: 23.0.1 -> 24.0\n",
            "[notice] To update, run: python.exe -m pip install --upgrade pip\n"
          ]
        },
        {
          "name": "stdout",
          "output_type": "stream",
          "text": [
            "Requirement already satisfied: numpy in c:\\users\\bkbar\\appdata\\local\\programs\\python\\python310\\lib\\site-packages (1.26.4)\n",
            "Note: you may need to restart the kernel to use updated packages.\n"
          ]
        }
      ],
      "source": [
        "%pip install numpy\n",
        "import numpy as np"
      ]
    },
    {
      "cell_type": "markdown",
      "metadata": {
        "id": "to-gsrQyuL5Z"
      },
      "source": [
        "### #1 - Calculate the BMI (body mass index) on the two lists below using NDArrays..."
      ]
    },
    {
      "cell_type": "code",
      "execution_count": 3,
      "metadata": {
        "id": "iZlf9DzeuL5a"
      },
      "outputs": [
        {
          "name": "stdout",
          "output_type": "stream",
          "text": [
            "[16.86620458 17.87755102 18.82562984 19.71450617 20.54794521 21.32943755\n",
            " 22.06222222]\n"
          ]
        }
      ],
      "source": [
        "import numpy as np\n",
        "# formula = weight / (height**2) * 730\n",
        "height = np.array([69, 70, 71, 72, 73, 74, 75])\n",
        "weight = np.array([110, 120, 130, 140, 150, 160, 170])\n",
        "bmi = weight / (height **2) * 730\n",
        "print(bmi)\n",
        " \n",
        "\n",
        "\n"
      ]
    },
    {
      "cell_type": "markdown",
      "metadata": {
        "id": "RSsT8w8ouL5b"
      },
      "source": [
        "### #2 - Create a function that will take in two parameters and will create a random matrix based off of those parameters. Extra: Have additional parameters taken in that allow the user to choose the shape and data type of the matrix."
      ]
    },
    {
      "cell_type": "code",
      "execution_count": 33,
      "metadata": {},
      "outputs": [
        {
          "name": "stdout",
          "output_type": "stream",
          "text": [
            "[3 3 3 5 4 5 0 3 2 3 5 2 6 1 4 2 5 5 3 2]\n"
          ]
        }
      ],
      "source": [
        "def add_arr(x,y):\n",
        "    add_arr = np.random.randint(x, size = y)\n",
        "    print(add_arr)\n",
        "    \n",
        "add_arr(7,20)"
      ]
    },
    {
      "cell_type": "markdown",
      "metadata": {
        "id": "e5mP1UX9uL5c"
      },
      "source": [
        "### #3 - Extra: Open and load the data in the two text files that have the Boston Red Sox hitting data for the past seasons. Compare the difference in the two years by putting the data into an NDArray and running a differencial operation on it. The column to look for will be SLG.\n",
        "\n",
        "Your output should display which year (either 2017 or 2018) was a better year based on SLG"
      ]
    },
    {
      "cell_type": "code",
      "execution_count": 34,
      "metadata": {
        "id": "iAExC-SjuL5c"
      },
      "outputs": [],
      "source": [
        "import csv\n",
        "import numpy as np\n",
        "\n",
        "\n"
      ]
    },
    {
      "cell_type": "code",
      "execution_count": 74,
      "metadata": {
        "id": "P8Rwr8lmuL5e"
      },
      "outputs": [
        {
          "ename": "ValueError",
          "evalue": "The truth value of an array with more than one element is ambiguous. Use a.any() or a.all()",
          "output_type": "error",
          "traceback": [
            "\u001b[1;31m---------------------------------------------------------------------------\u001b[0m",
            "\u001b[1;31mValueError\u001b[0m                                Traceback (most recent call last)",
            "Cell \u001b[1;32mIn[74], line 16\u001b[0m\n\u001b[0;32m     11\u001b[0m     data \u001b[38;5;241m=\u001b[39m np\u001b[38;5;241m.\u001b[39mgenfromtxt(redsox_2017_hitting, delimiter \u001b[38;5;241m=\u001b[39m d, skip_header \u001b[38;5;241m=\u001b[39m \u001b[38;5;241m1\u001b[39m,\n\u001b[0;32m     12\u001b[0m                          usecols \u001b[38;5;241m=\u001b[39m np\u001b[38;5;241m.\u001b[39marange(\u001b[38;5;241m0\u001b[39m,\u001b[38;5;241m24\u001b[39m)\u001b[38;5;241m.\u001b[39mreshape(\u001b[38;5;241m3\u001b[39m,\u001b[38;5;241m8\u001b[39m), invalid_raise \u001b[38;5;241m=\u001b[39m \u001b[38;5;28;01mFalse\u001b[39;00m,\n\u001b[0;32m     13\u001b[0m                          names \u001b[38;5;241m=\u001b[39m FIELDS, dtype \u001b[38;5;241m=\u001b[39m DATATYPES)\n\u001b[0;32m     14\u001b[0m     \u001b[38;5;28;01mreturn\u001b[39;00m data\n\u001b[1;32m---> 16\u001b[0m bs2017 \u001b[38;5;241m=\u001b[39m \u001b[43mload_data\u001b[49m\u001b[43m(\u001b[49m\u001b[38;5;124;43m'\u001b[39;49m\u001b[38;5;124;43mredsox_2017_hitting.txt\u001b[39;49m\u001b[38;5;124;43m'\u001b[39;49m\u001b[43m)\u001b[49m\n\u001b[0;32m     17\u001b[0m slg17 \u001b[38;5;241m=\u001b[39m bs2017[\u001b[38;5;124m'\u001b[39m\u001b[38;5;124mSLG\u001b[39m\u001b[38;5;124m'\u001b[39m]\n\u001b[0;32m     18\u001b[0m \u001b[38;5;28mprint\u001b[39m(slg17)\n",
            "Cell \u001b[1;32mIn[74], line 11\u001b[0m, in \u001b[0;36mload_data\u001b[1;34m(redsox_2017_hitting, d)\u001b[0m\n\u001b[0;32m     10\u001b[0m \u001b[38;5;28;01mdef\u001b[39;00m \u001b[38;5;21mload_data\u001b[39m(redsox_2017_hitting, d\u001b[38;5;241m=\u001b[39m\u001b[38;5;124m'\u001b[39m\u001b[38;5;124m,\u001b[39m\u001b[38;5;124m'\u001b[39m):\n\u001b[1;32m---> 11\u001b[0m     data \u001b[38;5;241m=\u001b[39m \u001b[43mnp\u001b[49m\u001b[38;5;241;43m.\u001b[39;49m\u001b[43mgenfromtxt\u001b[49m\u001b[43m(\u001b[49m\u001b[43mredsox_2017_hitting\u001b[49m\u001b[43m,\u001b[49m\u001b[43m \u001b[49m\u001b[43mdelimiter\u001b[49m\u001b[43m \u001b[49m\u001b[38;5;241;43m=\u001b[39;49m\u001b[43m \u001b[49m\u001b[43md\u001b[49m\u001b[43m,\u001b[49m\u001b[43m \u001b[49m\u001b[43mskip_header\u001b[49m\u001b[43m \u001b[49m\u001b[38;5;241;43m=\u001b[39;49m\u001b[43m \u001b[49m\u001b[38;5;241;43m1\u001b[39;49m\u001b[43m,\u001b[49m\n\u001b[0;32m     12\u001b[0m \u001b[43m                         \u001b[49m\u001b[43musecols\u001b[49m\u001b[43m \u001b[49m\u001b[38;5;241;43m=\u001b[39;49m\u001b[43m \u001b[49m\u001b[43mnp\u001b[49m\u001b[38;5;241;43m.\u001b[39;49m\u001b[43marange\u001b[49m\u001b[43m(\u001b[49m\u001b[38;5;241;43m0\u001b[39;49m\u001b[43m,\u001b[49m\u001b[38;5;241;43m24\u001b[39;49m\u001b[43m)\u001b[49m\u001b[38;5;241;43m.\u001b[39;49m\u001b[43mreshape\u001b[49m\u001b[43m(\u001b[49m\u001b[38;5;241;43m3\u001b[39;49m\u001b[43m,\u001b[49m\u001b[38;5;241;43m8\u001b[39;49m\u001b[43m)\u001b[49m\u001b[43m,\u001b[49m\u001b[43m \u001b[49m\u001b[43minvalid_raise\u001b[49m\u001b[43m \u001b[49m\u001b[38;5;241;43m=\u001b[39;49m\u001b[43m \u001b[49m\u001b[38;5;28;43;01mFalse\u001b[39;49;00m\u001b[43m,\u001b[49m\n\u001b[0;32m     13\u001b[0m \u001b[43m                         \u001b[49m\u001b[43mnames\u001b[49m\u001b[43m \u001b[49m\u001b[38;5;241;43m=\u001b[39;49m\u001b[43m \u001b[49m\u001b[43mFIELDS\u001b[49m\u001b[43m,\u001b[49m\u001b[43m \u001b[49m\u001b[43mdtype\u001b[49m\u001b[43m \u001b[49m\u001b[38;5;241;43m=\u001b[39;49m\u001b[43m \u001b[49m\u001b[43mDATATYPES\u001b[49m\u001b[43m)\u001b[49m\n\u001b[0;32m     14\u001b[0m     \u001b[38;5;28;01mreturn\u001b[39;00m data\n",
            "File \u001b[1;32mc:\\Users\\bkbar\\AppData\\Local\\Programs\\Python\\Python310\\lib\\site-packages\\numpy\\lib\\npyio.py:2063\u001b[0m, in \u001b[0;36mgenfromtxt\u001b[1;34m(fname, dtype, comments, delimiter, skip_header, skip_footer, converters, missing_values, filling_values, usecols, names, excludelist, deletechars, replace_space, autostrip, case_sensitive, defaultfmt, unpack, usemask, loose, invalid_raise, max_rows, encoding, ndmin, like)\u001b[0m\n\u001b[0;32m   2061\u001b[0m     \u001b[38;5;28;01mif\u001b[39;00m _is_string_like(current):\n\u001b[0;32m   2062\u001b[0m         usecols[i] \u001b[38;5;241m=\u001b[39m names\u001b[38;5;241m.\u001b[39mindex(current)\n\u001b[1;32m-> 2063\u001b[0m     \u001b[38;5;28;01melif\u001b[39;00m current \u001b[38;5;241m<\u001b[39m \u001b[38;5;241m0\u001b[39m:\n\u001b[0;32m   2064\u001b[0m         usecols[i] \u001b[38;5;241m=\u001b[39m current \u001b[38;5;241m+\u001b[39m \u001b[38;5;28mlen\u001b[39m(first_values)\n\u001b[0;32m   2065\u001b[0m \u001b[38;5;66;03m# If the dtype is not None, make sure we update it\u001b[39;00m\n",
            "\u001b[1;31mValueError\u001b[0m: The truth value of an array with more than one element is ambiguous. Use a.any() or a.all()"
          ]
        }
      ],
      "source": [
        "FIELDS = ['Rk', 'Pos', 'Name', 'Age', 'G', 'PA', 'AB', 'R', 'H', '2B', '3B', 'HR', 'RBI', 'SB', 'CS', \n",
        "          'BB', 'SO', 'BA', 'OBP', 'SLG', 'OPS', 'OPS+', 'TB', 'GDP', 'HBP', 'SH', 'SF', 'IBB']\n",
        "\n",
        "DATATYPES = [('rk', 'i'), ('pos', '|S25'), ('name', '|S25'), ('age', 'i'), ('g', 'i'), ('pa', 'i'), ('ab', 'i'),\n",
        "                ('r', 'i'), ('h', 'i'), ('2b', 'i'), ('3b', 'i'), ('hr', 'i'), ('rbi', 'i'), ('sb', 'i'), ('cs', 'i'),\n",
        "                ('bb', 'i'), ('so', 'i'), ('ba', 'f'), ('obp', 'f'), ('slg', 'f'), ('ops', 'f'), ('opsp', 'i'),\n",
        "                ('tb', 'i'), ('gdp', 'i'), ('hbp', 'i'), ('sh', 'i'), ('sf', 'i'), ('ibb', 'i')]\n",
        "\n",
        "#Use this function to actually open the data inside of a NDArray\n",
        "def load_data(redsox_2017_hitting, d=','):\n",
        "    data = np.genfromtxt(redsox_2017_hitting, delimiter = d, skip_header = 1,\n",
        "                         usecols = np.arange(0,24).reshape(3,8), invalid_raise = False,\n",
        "                         names = FIELDS, dtype = DATATYPES)\n",
        "    return data\n",
        "\n",
        "bs2017 = load_data('redsox_2017_hitting.txt')\n",
        "slg17 = bs2017['SLG']\n",
        "print(slg17)\n",
        "print('The SLG numbers for the 2017 MLB season are printed above.')\n",
        "def load_data(redsox_2018_hitting, d=','):\n",
        "    data = np.genfromtxt(redsox_2018_hitting, delimiter = d, skip_header = 1,\n",
        "                         usecols = np.arange(0,24).reshape(3,8), invalid_raise = False,\n",
        "                         names = FIELDS, dtype = DATATYPES)\n",
        "    return data\n",
        "\n",
        "bs2018 = load_data('redsox_2018_hitting.txt')\n",
        "slg18 = bs2018['SLG']\n",
        "print(slg18)\n",
        "print('The SLG numbers for the 2018 MLB season are printed above.')\n",
        "\n",
        "bs1718 = slg18 - slg17"
      ]
    }
  ],
  "metadata": {
    "colab": {
      "name": "Copy of Data_Science_Day_1_Exercises-Day1- Homework.ipynb",
      "provenance": []
    },
    "kernelspec": {
      "display_name": "Python 3",
      "language": "python",
      "name": "python3"
    },
    "language_info": {
      "codemirror_mode": {
        "name": "ipython",
        "version": 3
      },
      "file_extension": ".py",
      "mimetype": "text/x-python",
      "name": "python",
      "nbconvert_exporter": "python",
      "pygments_lexer": "ipython3",
      "version": "3.10.11"
    }
  },
  "nbformat": 4,
  "nbformat_minor": 0
}
